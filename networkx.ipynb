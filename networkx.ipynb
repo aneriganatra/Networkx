{
 "cells": [
  {
   "cell_type": "code",
   "execution_count": 1,
   "id": "3d8c300e",
   "metadata": {},
   "outputs": [],
   "source": [
    "edgelist = [['Mannheim', 'Frankfurt', 85], ['Mannheim', 'Karlsruhe', 80], ['Erfurt', 'Wurzburg', 186], ['Munchen', 'Numberg', 167], ['Munchen', 'Augsburg', 84], ['Munchen', 'Kassel', 502], ['Numberg', 'Stuttgart', 183], ['Numberg', 'Wurzburg', 103], ['Numberg', 'Munchen', 167], ['Stuttgart', 'Numberg', 183], ['Augsburg', 'Munchen', 84], ['Augsburg', 'Karlsruhe', 250], ['Kassel', 'Munchen', 502], ['Kassel', 'Frankfurt', 173], ['Frankfurt', 'Mannheim', 85], ['Frankfurt', 'Wurzburg', 217], ['Frankfurt', 'Kassel', 173], ['Wurzburg', 'Numberg', 103], ['Wurzburg', 'Erfurt', 186], ['Wurzburg', 'Frankfurt', 217], ['Karlsruhe', 'Mannheim', 80], ['Karlsruhe', 'Augsburg', 250],[\"Mumbai\", \"Delhi\",400],[\"Delhi\", \"Kolkata\",500],[\"Kolkata\", \"Bangalore\",600],[\"TX\", \"NY\",1200],[\"ALB\", \"NY\",800]]"
   ]
  },
  {
   "cell_type": "code",
   "execution_count": 9,
   "id": "d60bcf91",
   "metadata": {},
   "outputs": [
    {
     "data": {
      "text/plain": [
       "<function list.index(value, start=0, stop=9223372036854775807, /)>"
      ]
     },
     "execution_count": 9,
     "metadata": {},
     "output_type": "execute_result"
    }
   ],
   "source": [
    "edgelist.index"
   ]
  },
  {
   "cell_type": "code",
   "execution_count": 10,
   "id": "f2189833",
   "metadata": {},
   "outputs": [],
   "source": [
    "import networkx as nx"
   ]
  },
  {
   "cell_type": "code",
   "execution_count": 11,
   "id": "f75847f9",
   "metadata": {},
   "outputs": [],
   "source": [
    "g=nx.Graph()\n",
    "for edge in edgelist:\n",
    "    g.add_edge(edge[0],edge[1], weight = edge[2])"
   ]
  },
  {
   "cell_type": "code",
   "execution_count": 12,
   "id": "9cc930a9",
   "metadata": {},
   "outputs": [
    {
     "data": {
      "text/plain": [
       "<generator object connected_components at 0x000001789C649B48>"
      ]
     },
     "execution_count": 12,
     "metadata": {},
     "output_type": "execute_result"
    }
   ],
   "source": [
    "import pandas as pd\n",
    "nx.connected_components(g)"
   ]
  },
  {
   "cell_type": "code",
   "execution_count": 13,
   "id": "7ad6c828",
   "metadata": {},
   "outputs": [
    {
     "name": "stdout",
     "output_type": "stream",
     "text": [
      "cc0: {'Augsburg', 'Mannheim', 'Numberg', 'Munchen', 'Stuttgart', 'Karlsruhe', 'Kassel', 'Erfurt', 'Wurzburg', 'Frankfurt'}\n",
      "cc1: {'Bangalore', 'Mumbai', 'Kolkata', 'Delhi'}\n",
      "cc2: {'ALB', 'TX', 'NY'}\n"
     ]
    }
   ],
   "source": [
    "for i, x in enumerate(nx.connected_components(g)):\n",
    "    print(\"cc\"+str(i)+\":\",x)"
   ]
  },
  {
   "cell_type": "code",
   "execution_count": 14,
   "id": "fc046ab5",
   "metadata": {},
   "outputs": [
    {
     "name": "stdout",
     "output_type": "stream",
     "text": [
      "['Delhi', 'Kolkata', 'Bangalore']\n"
     ]
    }
   ],
   "source": [
    "print(nx.shortest_path(g, 'Delhi','Bangalore',weight='weight'))"
   ]
  },
  {
   "cell_type": "code",
   "execution_count": 15,
   "id": "7fcf3358",
   "metadata": {},
   "outputs": [
    {
     "name": "stdout",
     "output_type": "stream",
     "text": [
      "503\n"
     ]
    }
   ],
   "source": [
    "print(nx.shortest_path_length(g, 'Stuttgart','Frankfurt',weight='weight'))"
   ]
  },
  {
   "cell_type": "code",
   "execution_count": 16,
   "id": "42031dca",
   "metadata": {},
   "outputs": [
    {
     "name": "stdout",
     "output_type": "stream",
     "text": [
      "('Mannheim', {'Mannheim': ['Mannheim'], 'Frankfurt': ['Mannheim', 'Frankfurt'], 'Karlsruhe': ['Mannheim', 'Karlsruhe'], 'Augsburg': ['Mannheim', 'Karlsruhe', 'Augsburg'], 'Kassel': ['Mannheim', 'Frankfurt', 'Kassel'], 'Wurzburg': ['Mannheim', 'Frankfurt', 'Wurzburg'], 'Munchen': ['Mannheim', 'Karlsruhe', 'Augsburg', 'Munchen'], 'Erfurt': ['Mannheim', 'Frankfurt', 'Wurzburg', 'Erfurt'], 'Numberg': ['Mannheim', 'Frankfurt', 'Wurzburg', 'Numberg'], 'Stuttgart': ['Mannheim', 'Frankfurt', 'Wurzburg', 'Numberg', 'Stuttgart']})\n",
      "('Frankfurt', {'Frankfurt': ['Frankfurt'], 'Mannheim': ['Frankfurt', 'Mannheim'], 'Kassel': ['Frankfurt', 'Kassel'], 'Wurzburg': ['Frankfurt', 'Wurzburg'], 'Karlsruhe': ['Frankfurt', 'Mannheim', 'Karlsruhe'], 'Augsburg': ['Frankfurt', 'Mannheim', 'Karlsruhe', 'Augsburg'], 'Munchen': ['Frankfurt', 'Wurzburg', 'Numberg', 'Munchen'], 'Erfurt': ['Frankfurt', 'Wurzburg', 'Erfurt'], 'Numberg': ['Frankfurt', 'Wurzburg', 'Numberg'], 'Stuttgart': ['Frankfurt', 'Wurzburg', 'Numberg', 'Stuttgart']})\n",
      "('Karlsruhe', {'Karlsruhe': ['Karlsruhe'], 'Mannheim': ['Karlsruhe', 'Mannheim'], 'Augsburg': ['Karlsruhe', 'Augsburg'], 'Frankfurt': ['Karlsruhe', 'Mannheim', 'Frankfurt'], 'Kassel': ['Karlsruhe', 'Mannheim', 'Frankfurt', 'Kassel'], 'Wurzburg': ['Karlsruhe', 'Mannheim', 'Frankfurt', 'Wurzburg'], 'Munchen': ['Karlsruhe', 'Augsburg', 'Munchen'], 'Numberg': ['Karlsruhe', 'Mannheim', 'Frankfurt', 'Wurzburg', 'Numberg'], 'Erfurt': ['Karlsruhe', 'Mannheim', 'Frankfurt', 'Wurzburg', 'Erfurt'], 'Stuttgart': ['Karlsruhe', 'Mannheim', 'Frankfurt', 'Wurzburg', 'Numberg', 'Stuttgart']})\n",
      "('Erfurt', {'Erfurt': ['Erfurt'], 'Wurzburg': ['Erfurt', 'Wurzburg'], 'Numberg': ['Erfurt', 'Wurzburg', 'Numberg'], 'Frankfurt': ['Erfurt', 'Wurzburg', 'Frankfurt'], 'Munchen': ['Erfurt', 'Wurzburg', 'Numberg', 'Munchen'], 'Stuttgart': ['Erfurt', 'Wurzburg', 'Numberg', 'Stuttgart'], 'Mannheim': ['Erfurt', 'Wurzburg', 'Frankfurt', 'Mannheim'], 'Kassel': ['Erfurt', 'Wurzburg', 'Frankfurt', 'Kassel'], 'Augsburg': ['Erfurt', 'Wurzburg', 'Numberg', 'Munchen', 'Augsburg'], 'Karlsruhe': ['Erfurt', 'Wurzburg', 'Frankfurt', 'Mannheim', 'Karlsruhe']})\n",
      "('Wurzburg', {'Wurzburg': ['Wurzburg'], 'Erfurt': ['Wurzburg', 'Erfurt'], 'Numberg': ['Wurzburg', 'Numberg'], 'Frankfurt': ['Wurzburg', 'Frankfurt'], 'Munchen': ['Wurzburg', 'Numberg', 'Munchen'], 'Stuttgart': ['Wurzburg', 'Numberg', 'Stuttgart'], 'Mannheim': ['Wurzburg', 'Frankfurt', 'Mannheim'], 'Kassel': ['Wurzburg', 'Frankfurt', 'Kassel'], 'Augsburg': ['Wurzburg', 'Numberg', 'Munchen', 'Augsburg'], 'Karlsruhe': ['Wurzburg', 'Frankfurt', 'Mannheim', 'Karlsruhe']})\n",
      "('Munchen', {'Munchen': ['Munchen'], 'Numberg': ['Munchen', 'Numberg'], 'Augsburg': ['Munchen', 'Augsburg'], 'Kassel': ['Munchen', 'Kassel'], 'Karlsruhe': ['Munchen', 'Augsburg', 'Karlsruhe'], 'Stuttgart': ['Munchen', 'Numberg', 'Stuttgart'], 'Wurzburg': ['Munchen', 'Numberg', 'Wurzburg'], 'Erfurt': ['Munchen', 'Numberg', 'Wurzburg', 'Erfurt'], 'Frankfurt': ['Munchen', 'Numberg', 'Wurzburg', 'Frankfurt'], 'Mannheim': ['Munchen', 'Augsburg', 'Karlsruhe', 'Mannheim']})\n",
      "('Numberg', {'Numberg': ['Numberg'], 'Munchen': ['Numberg', 'Munchen'], 'Stuttgart': ['Numberg', 'Stuttgart'], 'Wurzburg': ['Numberg', 'Wurzburg'], 'Erfurt': ['Numberg', 'Wurzburg', 'Erfurt'], 'Frankfurt': ['Numberg', 'Wurzburg', 'Frankfurt'], 'Augsburg': ['Numberg', 'Munchen', 'Augsburg'], 'Kassel': ['Numberg', 'Wurzburg', 'Frankfurt', 'Kassel'], 'Karlsruhe': ['Numberg', 'Wurzburg', 'Frankfurt', 'Mannheim', 'Karlsruhe'], 'Mannheim': ['Numberg', 'Wurzburg', 'Frankfurt', 'Mannheim']})\n",
      "('Augsburg', {'Augsburg': ['Augsburg'], 'Munchen': ['Augsburg', 'Munchen'], 'Karlsruhe': ['Augsburg', 'Karlsruhe'], 'Numberg': ['Augsburg', 'Munchen', 'Numberg'], 'Kassel': ['Augsburg', 'Munchen', 'Kassel'], 'Mannheim': ['Augsburg', 'Karlsruhe', 'Mannheim'], 'Stuttgart': ['Augsburg', 'Munchen', 'Numberg', 'Stuttgart'], 'Wurzburg': ['Augsburg', 'Munchen', 'Numberg', 'Wurzburg'], 'Frankfurt': ['Augsburg', 'Karlsruhe', 'Mannheim', 'Frankfurt'], 'Erfurt': ['Augsburg', 'Munchen', 'Numberg', 'Wurzburg', 'Erfurt']})\n",
      "('Kassel', {'Kassel': ['Kassel'], 'Munchen': ['Kassel', 'Munchen'], 'Frankfurt': ['Kassel', 'Frankfurt'], 'Mannheim': ['Kassel', 'Frankfurt', 'Mannheim'], 'Wurzburg': ['Kassel', 'Frankfurt', 'Wurzburg'], 'Karlsruhe': ['Kassel', 'Frankfurt', 'Mannheim', 'Karlsruhe'], 'Augsburg': ['Kassel', 'Munchen', 'Augsburg'], 'Erfurt': ['Kassel', 'Frankfurt', 'Wurzburg', 'Erfurt'], 'Numberg': ['Kassel', 'Frankfurt', 'Wurzburg', 'Numberg'], 'Stuttgart': ['Kassel', 'Frankfurt', 'Wurzburg', 'Numberg', 'Stuttgart']})\n",
      "('Stuttgart', {'Stuttgart': ['Stuttgart'], 'Numberg': ['Stuttgart', 'Numberg'], 'Munchen': ['Stuttgart', 'Numberg', 'Munchen'], 'Wurzburg': ['Stuttgart', 'Numberg', 'Wurzburg'], 'Erfurt': ['Stuttgart', 'Numberg', 'Wurzburg', 'Erfurt'], 'Frankfurt': ['Stuttgart', 'Numberg', 'Wurzburg', 'Frankfurt'], 'Augsburg': ['Stuttgart', 'Numberg', 'Munchen', 'Augsburg'], 'Kassel': ['Stuttgart', 'Numberg', 'Wurzburg', 'Frankfurt', 'Kassel'], 'Karlsruhe': ['Stuttgart', 'Numberg', 'Wurzburg', 'Frankfurt', 'Mannheim', 'Karlsruhe'], 'Mannheim': ['Stuttgart', 'Numberg', 'Wurzburg', 'Frankfurt', 'Mannheim']})\n",
      "('Mumbai', {'Mumbai': ['Mumbai'], 'Delhi': ['Mumbai', 'Delhi'], 'Kolkata': ['Mumbai', 'Delhi', 'Kolkata'], 'Bangalore': ['Mumbai', 'Delhi', 'Kolkata', 'Bangalore']})\n",
      "('Delhi', {'Delhi': ['Delhi'], 'Mumbai': ['Delhi', 'Mumbai'], 'Kolkata': ['Delhi', 'Kolkata'], 'Bangalore': ['Delhi', 'Kolkata', 'Bangalore']})\n",
      "('Kolkata', {'Kolkata': ['Kolkata'], 'Delhi': ['Kolkata', 'Delhi'], 'Bangalore': ['Kolkata', 'Bangalore'], 'Mumbai': ['Kolkata', 'Delhi', 'Mumbai']})\n",
      "('Bangalore', {'Bangalore': ['Bangalore'], 'Kolkata': ['Bangalore', 'Kolkata'], 'Delhi': ['Bangalore', 'Kolkata', 'Delhi'], 'Mumbai': ['Bangalore', 'Kolkata', 'Delhi', 'Mumbai']})\n",
      "('TX', {'TX': ['TX'], 'NY': ['TX', 'NY'], 'ALB': ['TX', 'NY', 'ALB']})\n",
      "('NY', {'NY': ['NY'], 'TX': ['NY', 'TX'], 'ALB': ['NY', 'ALB']})\n",
      "('ALB', {'ALB': ['ALB'], 'NY': ['ALB', 'NY'], 'TX': ['ALB', 'NY', 'TX']})\n"
     ]
    }
   ],
   "source": [
    "for x in nx.all_pairs_dijkstra_path(g,weight='weight'):\n",
    "    print(x)"
   ]
  },
  {
   "cell_type": "code",
   "execution_count": 51,
   "id": "f16dd971",
   "metadata": {},
   "outputs": [
    {
     "data": {
      "text/plain": [
       "<networkx.classes.graph.Graph at 0x1789daad948>"
      ]
     },
     "execution_count": 51,
     "metadata": {},
     "output_type": "execute_result"
    }
   ],
   "source": [
    "nx.minimum_spanning_tree(g)"
   ]
  }
 ],
 "metadata": {
  "kernelspec": {
   "display_name": "Python 3 (ipykernel)",
   "language": "python",
   "name": "python3"
  },
  "language_info": {
   "codemirror_mode": {
    "name": "ipython",
    "version": 3
   },
   "file_extension": ".py",
   "mimetype": "text/x-python",
   "name": "python",
   "nbconvert_exporter": "python",
   "pygments_lexer": "ipython3",
   "version": "3.7.11"
  }
 },
 "nbformat": 4,
 "nbformat_minor": 5
}
